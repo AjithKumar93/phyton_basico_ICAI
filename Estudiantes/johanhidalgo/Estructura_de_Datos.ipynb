{
 "cells": [
  {
   "cell_type": "markdown",
   "metadata": {},
   "source": [
    "# Estructuras de datos\n",
    "\n",
    "## Listas \n",
    "\n"
   ]
  },
  {
   "cell_type": "code",
   "execution_count": 4,
   "metadata": {},
   "outputs": [
    {
     "name": "stdout",
     "output_type": "stream",
     "text": [
      "['Conejo', 'Gato', 'Perro', 10, True, 10.65, [2020, 2022, 2023]]\n"
     ]
    }
   ],
   "source": [
    "lista = ['Conejo','Gato','Perro', 10, True, 10.65,[2020,2022,2023]]\n",
    "print(lista)"
   ]
  },
  {
   "cell_type": "markdown",
   "metadata": {},
   "source": [
    "# Trabajando con listas"
   ]
  },
  {
   "cell_type": "code",
   "execution_count": 9,
   "metadata": {},
   "outputs": [
    {
     "name": "stdout",
     "output_type": "stream",
     "text": [
      "3\n",
      "5\n"
     ]
    }
   ],
   "source": [
    "#Las listas se trabaja con indices\n",
    "#           0,1,2,3,4\n",
    "#Los indices comienzan en cero y se accede con parentesis cuadrados\n",
    "mi_lista = [1,2,3,4,5]\n",
    "print(mi_lista[2])\n",
    "print(mi_lista[-1])"
   ]
  },
  {
   "cell_type": "markdown",
   "metadata": {},
   "source": [
    "## Como imprir elementos de una lista "
   ]
  },
  {
   "cell_type": "code",
   "execution_count": 10,
   "metadata": {},
   "outputs": [
    {
     "name": "stdout",
     "output_type": "stream",
     "text": [
      "[1, 2, 3, 4, 5]\n",
      "[2, 3, 4]\n"
     ]
    }
   ],
   "source": [
    "# Imprimir con slicing\n",
    "print(mi_lista)\n",
    "print(mi_lista[1:4])"
   ]
  },
  {
   "cell_type": "code",
   "execution_count": 11,
   "metadata": {},
   "outputs": [
    {
     "name": "stdout",
     "output_type": "stream",
     "text": [
      "1 2 3 4 5\n"
     ]
    }
   ],
   "source": [
    "#Desempaquetar una lista\n",
    "print(*mi_lista)"
   ]
  },
  {
   "cell_type": "code",
   "execution_count": 12,
   "metadata": {},
   "outputs": [
    {
     "name": "stdout",
     "output_type": "stream",
     "text": [
      "Conejo\n",
      "Gato\n",
      "Perro\n",
      "10\n",
      "True\n",
      "10.65\n",
      "[2020, 2022, 2023]\n"
     ]
    }
   ],
   "source": [
    "#Usando ciclo for para completar una lista\n",
    "for elemento in lista:\n",
    "    print(elemento)"
   ]
  }
 ],
 "metadata": {
  "kernelspec": {
   "display_name": "Python 3",
   "language": "python",
   "name": "python3"
  },
  "language_info": {
   "codemirror_mode": {
    "name": "ipython",
    "version": 3
   },
   "file_extension": ".py",
   "mimetype": "text/x-python",
   "name": "python",
   "nbconvert_exporter": "python",
   "pygments_lexer": "ipython3",
   "version": "3.12.2"
  }
 },
 "nbformat": 4,
 "nbformat_minor": 2
}
