{
 "cells": [
  {
   "cell_type": "code",
   "execution_count": 2,
   "metadata": {},
   "outputs": [
    {
     "name": "stdout",
     "output_type": "stream",
     "text": [
      "mi primer libro\n"
     ]
    }
   ],
   "source": [
    "print('mi primer libro')"
   ]
  },
  {
   "cell_type": "markdown",
   "metadata": {},
   "source": [
    "#Estructuras de Datos\n",
    "## Listas\n",
    "Las listas son uno de los tipos de datos mas importantes\n",
    "print('mi primer libro')"
   ]
  },
  {
   "cell_type": "code",
   "execution_count": null,
   "metadata": {},
   "outputs": [],
   "source": [
    "lista= [ 'conejo','gato', 'casa' ]\n",
    "print (lista)\n",
    "\n",
    "lista2= [ 'conejo','gato', 'casa', 10, True, 2023, [1,2,3] ]\n",
    "print (lista2)\n"
   ]
  },
  {
   "cell_type": "code",
   "execution_count": 6,
   "metadata": {},
   "outputs": [
    {
     "name": "stdout",
     "output_type": "stream",
     "text": [
      "[1, 2, 3, 4, 5]\n",
      "[1, 2, 3, 4, 5]\n",
      "3\n",
      "5\n"
     ]
    }
   ],
   "source": [
    "#Trabajando con listas\n",
    "\n",
    "#Trabajando con listas\n",
    "miLista=[1,2,3,4,5]\n",
    "print(miLista)\n",
    "\n",
    "miLista=[1,2,3,4,5]\n",
    "print(miLista)\n",
    "print(miLista[2])\n",
    "print(miLista[-1]) # -5, -4, -3, -2, -1 indices negativos"
   ]
  },
  {
   "cell_type": "markdown",
   "metadata": {},
   "source": []
  },
  {
   "cell_type": "code",
   "execution_count": 9,
   "metadata": {},
   "outputs": [
    {
     "name": "stdout",
     "output_type": "stream",
     "text": [
      "[2, 3, 4]\n",
      "1 2 3 4 5\n",
      "conejo\n",
      "gato\n",
      "casa\n"
     ]
    }
   ],
   "source": [
    "# imprimir con slicing\n",
    "print (miLista[1:4])\n",
    "\n",
    "print(*miLista) # para desempaquetas los elementos de la lista\n",
    "\n",
    "for elemento in lista:\n",
    "    print(elemento)"
   ]
  },
  {
   "cell_type": "markdown",
   "metadata": {},
   "source": [
    "###agregar elementos en la lista"
   ]
  },
  {
   "cell_type": "code",
   "execution_count": 16,
   "metadata": {},
   "outputs": [
    {
     "name": "stdout",
     "output_type": "stream",
     "text": [
      "['uno', 'dos', 'tres', 'cuatro']\n",
      "['uno', 'cinco', 'dos', 'tres', 'cuatro']\n"
     ]
    }
   ],
   "source": [
    "#apend()\n",
    "correos=['uno', 'dos', 'tres']\n",
    "correos.append('cuatro');\n",
    "print (correos)\n",
    "correos.insert(1, 'cinco')\n",
    "print (correos)"
   ]
  },
  {
   "cell_type": "markdown",
   "metadata": {},
   "source": [
    "##aGREGAR MULTIPLES ELEMENTOS A UNA LISTA"
   ]
  },
  {
   "cell_type": "code",
   "execution_count": 20,
   "metadata": {},
   "outputs": [
    {
     "name": "stdout",
     "output_type": "stream",
     "text": [
      "['Word', 'Ecxel', 'Power', 'acces', 'vision', 'skype']\n",
      "['Word', 'Ecxel', 'Power', 'acces', 'vision', 'skype', 'acces', 'vision', 'skype']\n"
     ]
    }
   ],
   "source": [
    "paquete =['Word','Ecxel','Power']\n",
    "adicional = ['acces', 'vision', 'skype']\n",
    "paquete.extend (adicional)\n",
    "print (paquete)\n",
    "\n",
    "paquetePro= paquete + adicional\n",
    "print (paquetePro)"
   ]
  },
  {
   "cell_type": "markdown",
   "metadata": {},
   "source": [
    "###Remover elementos de una lista"
   ]
  },
  {
   "cell_type": "code",
   "execution_count": 26,
   "metadata": {},
   "outputs": [
    {
     "name": "stdout",
     "output_type": "stream",
     "text": [
      "['cinco', 'dos', 'tres', 'cuatro']\n",
      "['cinco', 'dos', 'tres', 'cuatro']\n",
      "dos\n",
      "['cinco', 'tres', 'cuatro']\n"
     ]
    }
   ],
   "source": [
    "#remove\n",
    "print (correos)\n",
    "##correos.remove('uno') solo se puede ejecutar una vez\n",
    "print (correos)\n",
    "eliminado = correos.pop(1)\n",
    "print (eliminado)\n",
    "print (correos)\n",
    "\n",
    "del correos[1] # hace lo mismo que el pop es decir elemina, pero no lo retorna\n",
    "\n",
    "## eliminar una lista poor completo\n",
    "correos.clear()"
   ]
  }
 ],
 "metadata": {
  "kernelspec": {
   "display_name": "Python 3",
   "language": "python",
   "name": "python3"
  },
  "language_info": {
   "codemirror_mode": {
    "name": "ipython",
    "version": 3
   },
   "file_extension": ".py",
   "mimetype": "text/x-python",
   "name": "python",
   "nbconvert_exporter": "python",
   "pygments_lexer": "ipython3",
   "version": "3.12.2"
  }
 },
 "nbformat": 4,
 "nbformat_minor": 2
}
