{
 "cells": [
  {
   "cell_type": "code",
   "execution_count": 8,
   "metadata": {},
   "outputs": [
    {
     "name": "stdout",
     "output_type": "stream",
     "text": [
      "['perro', 'gato', 'conejo', 10, 55.23, 'abeja']\n",
      "conejo\n",
      "['conejo', 10]\n"
     ]
    }
   ],
   "source": [
    "lista1 = [\"perro\",\"gato\",\"conejo\", 10, 55.23,\"abeja\"]\n",
    "print(lista1)\n",
    "print(lista1[2]) \n",
    "print(lista1[2:4]) # imprime un rango o pedazo"
   ]
  },
  {
   "cell_type": "code",
   "execution_count": 9,
   "metadata": {},
   "outputs": [
    {
     "name": "stdout",
     "output_type": "stream",
     "text": [
      "perro gato conejo 10 55.23 abeja\n"
     ]
    }
   ],
   "source": [
    "#desempaquetar lista\n",
    "print(*lista1)"
   ]
  },
  {
   "cell_type": "code",
   "execution_count": 14,
   "metadata": {},
   "outputs": [
    {
     "name": "stdout",
     "output_type": "stream",
     "text": [
      "['outlook', 'hotmail', 'gmail', 'yahoo']\n"
     ]
    }
   ],
   "source": [
    "lista2 = [\"outlook\", \"hotmail\", \"gmail\"]\n",
    "lista2.append(\"yahoo\")\n",
    "print(lista2)\n",
    "lista2.insert(0,\"flix\")"
   ]
  },
  {
   "cell_type": "code",
   "execution_count": 15,
   "metadata": {},
   "outputs": [
    {
     "name": "stdout",
     "output_type": "stream",
     "text": [
      "perro\n",
      "gato\n",
      "conejo\n",
      "10\n",
      "55.23\n",
      "abeja\n"
     ]
    }
   ],
   "source": [
    "for elemento in lista1:\n",
    "    print(elemento)"
   ]
  },
  {
   "cell_type": "code",
   "execution_count": 17,
   "metadata": {},
   "outputs": [
    {
     "name": "stdout",
     "output_type": "stream",
     "text": [
      "['word', 'excel', 'power point', 'visio', 'skype']\n",
      "['word', 'excel', 'power point', 'visio', 'skype', 'visio', 'skype']\n"
     ]
    }
   ],
   "source": [
    "#listas son mutables []\n",
    "#tupla es inmutable ()\n",
    "paquete = [\"word\", \"excel\", \"power point\"]\n",
    "adicional = [\"visio\", \"skype\"]\n",
    "paquete.extend(adicional)\n",
    "print(paquete)\n",
    "\n",
    "#concatenar\n",
    "profesional = paquete + adicional\n",
    "print(profesional)"
   ]
  },
  {
   "cell_type": "code",
   "execution_count": 18,
   "metadata": {},
   "outputs": [
    {
     "name": "stdout",
     "output_type": "stream",
     "text": [
      "['outlook', 'hotmail', 'gmail']\n"
     ]
    }
   ],
   "source": [
    "#eliminar elemento de lista\n",
    "lista2 = [\"outlook\", \"hotmail\", \"gmail\", \"gmail\"]\n",
    "lista2.remove(\"gmail\")\n",
    "print(lista2)"
   ]
  },
  {
   "cell_type": "code",
   "execution_count": 19,
   "metadata": {},
   "outputs": [
    {
     "name": "stdout",
     "output_type": "stream",
     "text": [
      "['hotmail', 'gmail']\n"
     ]
    }
   ],
   "source": [
    "#eliminar con pop\n",
    "lista2.pop(0)\n",
    "print(lista2)"
   ]
  }
 ],
 "metadata": {
  "kernelspec": {
   "display_name": "Python 3",
   "language": "python",
   "name": "python3"
  },
  "language_info": {
   "codemirror_mode": {
    "name": "ipython",
    "version": 3
   },
   "file_extension": ".py",
   "mimetype": "text/x-python",
   "name": "python",
   "nbconvert_exporter": "python",
   "pygments_lexer": "ipython3",
   "version": "3.12.2"
  }
 },
 "nbformat": 4,
 "nbformat_minor": 2
}
