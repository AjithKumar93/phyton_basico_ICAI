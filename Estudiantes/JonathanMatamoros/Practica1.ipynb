{
 "cells": [
  {
   "cell_type": "markdown",
   "metadata": {},
   "source": [
    "#1.\tDado los valores ingresados por el usuario (base, altura) calcular y mostrar en pantalla el área de un triángulo"
   ]
  },
  {
   "cell_type": "code",
   "execution_count": 2,
   "metadata": {},
   "outputs": [],
   "source": [
    "print('Programa para cálcular el área de un triángulo') \n",
    "Base = input ('Cuál es la Base del Triángulo')\n",
    "Altura = input ('Cuál es la Altura del Triángulo')\n",
    "\n",
    "Area = Base * Altura // 2\n",
    "\n",
    "print (f´El área triangulo es: {Area})\n",
    "\n",
    "\n",
    "\n",
    "\n",
    "\n",
    "\n",
    "\n",
    "                 "
   ]
  }
 ],
 "metadata": {
  "kernelspec": {
   "display_name": "Python 3",
   "language": "python",
   "name": "python3"
  },
  "language_info": {
   "codemirror_mode": {
    "name": "ipython",
    "version": 3
   },
   "file_extension": ".py",
   "mimetype": "text/x-python",
   "name": "python",
   "nbconvert_exporter": "python",
   "pygments_lexer": "ipython3",
   "version": "3.12.2"
  }
 },
 "nbformat": 4,
 "nbformat_minor": 2
}
