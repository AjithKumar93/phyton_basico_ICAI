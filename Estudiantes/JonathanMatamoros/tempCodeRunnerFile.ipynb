print('Programa para cálcular el área de un triángulo') 
Base = input ('Cuál es la Base del Triángulo')
Altura = input ('Cuál es la Altura del Triángulo')

Área = Base * Altura / 2

print ('El área del triángulo es {Área}')