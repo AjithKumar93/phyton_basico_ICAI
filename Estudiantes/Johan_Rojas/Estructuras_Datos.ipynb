{
 "cells": [
  {
   "cell_type": "markdown",
   "metadata": {},
   "source": [
    "# Estructuras de Datos\n",
    "\n",
    "## Listas\n",
    "\n",
    "Las listas son unos de los tipos de datos más importantes y versátiles de Python.\n",
    "\n",
    "### **Creación de listas:**\n",
    "\n",
    "- **Usando corchetes ([]) y separando los elementos con comas**"
   ]
  },
  {
   "cell_type": "code",
   "execution_count": 1,
   "metadata": {},
   "outputs": [
    {
     "name": "stdout",
     "output_type": "stream",
     "text": [
      "['Conejo', 'Gato', 'Perro']\n"
     ]
    }
   ],
   "source": [
    "Listas = ['Conejo', 'Gato', 'Perro']\n",
    "print (Listas)"
   ]
  },
  {
   "cell_type": "code",
   "execution_count": 14,
   "metadata": {},
   "outputs": [
    {
     "name": "stdout",
     "output_type": "stream",
     "text": [
      "['Outlook', 'Hotmail', 'Gmail', 'Yahoo']\n"
     ]
    }
   ],
   "source": [
    "# append()\n",
    "correos = ['Outlook', 'Hotmail', 'Gmail']\n",
    "correos.append('Yahoo')\n",
    "\n",
    "print(correos)"
   ]
  },
  {
   "cell_type": "code",
   "execution_count": 4,
   "metadata": {},
   "outputs": [
    {
     "name": "stdout",
     "output_type": "stream",
     "text": [
      "['Outlook', 'ProtonMail', 'Hotmail', 'Gmail', 'Yahoo']\n"
     ]
    }
   ],
   "source": [
    "# insert()\n",
    "correos.insert(1,'ProtonMail')\n",
    "print(correos)"
   ]
  },
  {
   "cell_type": "markdown",
   "metadata": {},
   "source": [
    "### Agregar múltiples elementos a una lista"
   ]
  },
  {
   "cell_type": "code",
   "execution_count": 6,
   "metadata": {},
   "outputs": [
    {
     "name": "stdout",
     "output_type": "stream",
     "text": [
      "['Word', 'Excel', 'PowerPoint', 'Access', 'Visio', 'Skype']\n"
     ]
    }
   ],
   "source": [
    "# Extend()\n",
    "paquete = ['Word', 'Excel', 'PowerPoint']\n",
    "adicional = ['Access', 'Visio', 'Skype']\n",
    "\n",
    "paquete.extend(adicional)\n",
    "print(paquete)"
   ]
  },
  {
   "cell_type": "code",
   "execution_count": 7,
   "metadata": {},
   "outputs": [
    {
     "name": "stdout",
     "output_type": "stream",
     "text": [
      "['Word', 'Excel', 'PowerPoint', 'Access', 'Visio', 'Skype']\n"
     ]
    }
   ],
   "source": [
    "# Concatenar\n",
    "paquete = ['Word', 'Excel', 'PowerPoint']\n",
    "adicional = ['Access', 'Visio', 'Skype']\n",
    "\n",
    "paquete_pro = paquete + adicional\n",
    "print(paquete_pro)"
   ]
  },
  {
   "cell_type": "markdown",
   "metadata": {},
   "source": [
    "## Eliminar elementos de una lista"
   ]
  },
  {
   "cell_type": "code",
   "execution_count": 12,
   "metadata": {},
   "outputs": [
    {
     "name": "stdout",
     "output_type": "stream",
     "text": [
      "['Outlook', 'ProtonMail', 'Hotmail', 'Yahoo', 'Gmail']\n"
     ]
    }
   ],
   "source": [
    "#remove()\n",
    "correos = ['Outlook', 'ProtonMail', 'Hotmail', 'Gmail', 'Yahoo', 'Gmail']\n",
    "\n",
    "correos.remove('Gmail')\n",
    "print(correos)\n"
   ]
  },
  {
   "cell_type": "code",
   "execution_count": 13,
   "metadata": {},
   "outputs": [
    {
     "name": "stdout",
     "output_type": "stream",
     "text": [
      "ProtonMail\n",
      "['Outlook', 'Hotmail', 'Yahoo', 'Gmail']\n"
     ]
    }
   ],
   "source": [
    "# pop()\n",
    "eliminado = correos.pop(1)\n",
    "print(eliminado)\n",
    "print(correos)"
   ]
  },
  {
   "cell_type": "code",
   "execution_count": 15,
   "metadata": {},
   "outputs": [
    {
     "name": "stdout",
     "output_type": "stream",
     "text": [
      "['Outlook', 'Hotmail', 'Gmail', 'Yahoo']\n"
     ]
    }
   ],
   "source": [
    "print(correos)"
   ]
  },
  {
   "cell_type": "code",
   "execution_count": 16,
   "metadata": {},
   "outputs": [
    {
     "name": "stdout",
     "output_type": "stream",
     "text": [
      "['Outlook', 'Gmail', 'Yahoo']\n"
     ]
    }
   ],
   "source": [
    "del correos[1]\n",
    "print(correos)"
   ]
  },
  {
   "cell_type": "code",
   "execution_count": 17,
   "metadata": {},
   "outputs": [
    {
     "name": "stdout",
     "output_type": "stream",
     "text": [
      "[]\n"
     ]
    }
   ],
   "source": [
    "correos.clear()\n",
    "print(correos)"
   ]
  },
  {
   "cell_type": "code",
   "execution_count": 20,
   "metadata": {},
   "outputs": [
    {
     "name": "stdout",
     "output_type": "stream",
     "text": [
      "[0, 1, 2, 3, 5, 8]\n",
      "[8, 5, 3, 2, 1, 0]\n",
      "1\n",
      "0\n"
     ]
    }
   ],
   "source": [
    "numeros = [5, 1, 8, 2, 3, 0]\n",
    "numeros.sort()\n",
    "print(numeros)\n",
    "\n",
    "numeros.sort(reverse=True) #desc\n",
    "print(numeros)\n",
    "\n",
    "numDos = numeros.count(2)\n",
    "print(numDos)\n",
    "\n",
    "indice_8 = numeros.index(8)\n",
    "print(indice_8)\n"
   ]
  }
 ],
 "metadata": {
  "kernelspec": {
   "display_name": "Python 3",
   "language": "python",
   "name": "python3"
  },
  "language_info": {
   "codemirror_mode": {
    "name": "ipython",
    "version": 3
   },
   "file_extension": ".py",
   "mimetype": "text/x-python",
   "name": "python",
   "nbconvert_exporter": "python",
   "pygments_lexer": "ipython3",
   "version": "3.12.2"
  }
 },
 "nbformat": 4,
 "nbformat_minor": 2
}
