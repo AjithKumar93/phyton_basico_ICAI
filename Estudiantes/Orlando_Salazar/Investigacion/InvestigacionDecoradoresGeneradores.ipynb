{
  "nbformat": 4,
  "nbformat_minor": 0,
  "metadata": {
    "colab": {
      "provenance": []
    },
    "kernelspec": {
      "name": "python3",
      "display_name": "Python 3"
    },
    "language_info": {
      "name": "python"
    }
  },
  "cells": [
    {
      "cell_type": "code",
      "execution_count": null,
      "metadata": {
        "id": "FDjoIzsiJorv"
      },
      "outputs": [],
      "source": []
    },
    {
      "cell_type": "markdown",
      "source": [
        "# Trabajo de Investigación de curso de Python\n",
        "### a. Que son los decoradores en Python?\n",
        "Los decoradores en Python son una característica poderosa que permite añadir funcionalidad extra a funciones y métodos sin modificar su código directamente.\n",
        "### b. Cuáles son los usos típicos de los decoradores en Python.\n",
        " * Funciones dentro de una función: En Python, se pueden crear funciones dentro de otras funciones.\n",
        " * Retornar funciones: La Función Externa retorna la Función Interna\n",
        " * Funciones como argumentos: Las funciones también pueden pasarse como argumentos a otras funciones. Esto es fundamental para los decoradores.\n",
        " * Estructura de un decorador:\n",
        "  * Un decorador acepta una función como argumento y define una función interior que la retorna.\n",
        "  * Se indica con el signo @ y se coloca encima de la función que se desea decorar.\n",
        "\n",
        "### c. Brinde 2 ejemplos distintos en los que se pueden usar los decoradores en Python\n",
        "\n"
      ],
      "metadata": {
        "id": "7ZzjO2RYJzY9"
      }
    },
    {
      "cell_type": "code",
      "source": [
        "def measure_time(function):\n",
        "    def wrapper(*args, **kwargs):\n",
        "        import time\n",
        "\n",
        "        start = time.time()\n",
        "        result = function(*args, **kwargs)\n",
        "        total = time.time() - start\n",
        "        print(total, 'seconds' )\n",
        "        return result\n",
        "\n",
        "    return wrapper\n",
        "\n",
        "\n",
        "@measure_time\n",
        "def suma(a, b):\n",
        "    import time\n",
        "    time.sleep(1)\n",
        "    return a + b\n",
        "\n",
        "print(suma(10, 20))\n"
      ],
      "metadata": {
        "colab": {
          "base_uri": "https://localhost:8080/"
        },
        "id": "f8EaKfECOE2F",
        "outputId": "14b56880-49b5-444f-e6a4-3e0fb04e5e81"
      },
      "execution_count": null,
      "outputs": [
        {
          "output_type": "stream",
          "name": "stdout",
          "text": [
            "1.0000801086425781 seconds\n",
            "30\n"
          ]
        }
      ]
    },
    {
      "cell_type": "code",
      "source": [
        "# Definimos un decorador llamado \"foo\"\n",
        "def foo(bar):\n",
        "    # Creamos una función modificada llamada \"baz\"\n",
        "    def baz():\n",
        "        # Antes de llamar a la función original, hacemos algo\n",
        "        print(\"Antes de la ejecución de la función a decorar\")\n",
        "        # Llamamos a la función original\n",
        "        bar()\n",
        "        # Después de la ejecución de la función original, hacemos algo más\n",
        "        print(\"Después de la ejecución de la función a decorar\")\n",
        "\n",
        "    # Retornamos la función modificada \"baz\"\n",
        "    return baz\n",
        "\n",
        "# Creamos una función \"mi_funcion\"\n",
        "def mi_funcion():\n",
        "    print(\"¡Hola desde mi_funcion!\")\n",
        "\n",
        "# Usamos el decorador \"foo\" para modificar \"mi_funcion\"\n",
        "decorada_funcion = foo(mi_funcion)\n",
        "\n",
        "# Llamamos a la función modificada\n",
        "decorada_funcion()\n"
      ],
      "metadata": {
        "colab": {
          "base_uri": "https://localhost:8080/"
        },
        "id": "0WJCFwxqPUYm",
        "outputId": "866d2f27-8f20-4057-bcf2-8d121c3e5875"
      },
      "execution_count": null,
      "outputs": [
        {
          "output_type": "stream",
          "name": "stdout",
          "text": [
            "Antes de la ejecución de la función a decorar\n",
            "¡Hola desde mi_funcion!\n",
            "Después de la ejecución de la función a decorar\n"
          ]
        }
      ]
    },
    {
      "cell_type": "markdown",
      "source": [
        "### a. ¿Qué son generadores en Python?\n",
        "Los generadores en Python son utilizados para crear iteradores. Son funciones simples que devuelven un número de elementos iterables, uno a la vez, de forma especial. Los generadores son en realidad iteradores, pero sólo permiten ser iterados una vez. No almacenan todos los valores en memoria, sino que los van generando al vuelo. Pueden ser usados de dos formas diferentes: iterándolos con un bucle for o pasándolos a una función.\n",
        "\n",
        "En resumen, los generadores son una herramienta poderosa para trabajar con grandes conjuntos de datos o secuencias infinitas, ya que evitan la necesidad de almacenar todo en memoria de una sola vez. Esto los hace eficientes y útiles en situaciones donde la memoria es limitada o cuando se necesita procesar datos de manera incremental.\n",
        "\n",
        "### b. Cuáles son los usos típicos de los generadores en Python.\n",
        "* Iteración Eficiente sobre Grandes Conjuntos de Datos:\n",
        " * Los generadores son ideales para trabajar con grandes conjuntos de datos. En lugar de cargar todo en memoria, puedes procesar los elementos uno por uno. Por ejemplo, al leer un archivo CSV, puedes usar un generador para procesar las filas de manera incremental1.\n",
        "* Secuencias Infinitas:\n",
        "  * Los generadores pueden crear estructuras de datos infinitas. Por ejemplo, puedes generar una secuencia infinita de números primos o números Fibonacci. Dado que los generadores generan valores bajo demanda, no necesitas almacenar todos los números en memoria al mismo tiempo1.\n",
        "* Eficiencia de Memoria:\n",
        " * Cuando necesitas iterar sobre una secuencia grande pero no quieres cargarla completamente en memoria, los generadores son la solución. Esto es especialmente útil cuando trabajas con archivos de registro, bases de datos o flujos de datos en tiempo real2.\n",
        "* Generación de Datos Bajo Demanda:\n",
        " * Los generadores son excelentes para situaciones en las que necesitas procesar datos incrementalmente. Por ejemplo, al generar números aleatorios, procesar registros de eventos o analizar texto línea por línea, los generadores te permiten generar datos bajo demanda sin agotar la memoria3.\n",
        "\n",
        "### c. Brinde 2 ejemplos distintos en los que se pueden usar los generadores en Python"
      ],
      "metadata": {
        "id": "mMhP-a51fiwl"
      }
    },
    {
      "cell_type": "code",
      "source": [
        "# Toma el cuadrado de cada número del 1 al 6 y almacénalo en 'gen'\n",
        "gen = (x ** 2 for x in range(1, 6))\n",
        "print(gen)  # Devuelve un objeto generador\n",
        "for i in gen:\n",
        "    print(i, end=\", \")  # Imprime los valores del generador"
      ],
      "metadata": {
        "colab": {
          "base_uri": "https://localhost:8080/"
        },
        "id": "42mwuznlhCg0",
        "outputId": "f0c1abed-c206-4850-b620-4b5325cf4ab9"
      },
      "execution_count": null,
      "outputs": [
        {
          "output_type": "stream",
          "name": "stdout",
          "text": [
            "<generator object <genexpr> at 0x7e15b0277220>\n",
            "1, 4, 9, 16, 25, "
          ]
        }
      ]
    },
    {
      "cell_type": "code",
      "source": [
        "import random\n",
        "\n",
        "def lottery():\n",
        "    # Devuelve 6 números entre 1 y 40\n",
        "    for i in range(6):\n",
        "        yield random.randint(1, 40)\n",
        "    # Devuelve un séptimo número entre 1 y 15\n",
        "    yield random.randint(1, 15)\n",
        "\n",
        "# Itera sobre el generador 'lottery'\n",
        "for random_number in lottery():\n",
        "    print(f\"And the next number is... {random_number}!\")"
      ],
      "metadata": {
        "colab": {
          "base_uri": "https://localhost:8080/"
        },
        "id": "6VgRXHB1h5Hc",
        "outputId": "9d190222-4b21-41dc-d1dd-d151c77c8051"
      },
      "execution_count": null,
      "outputs": [
        {
          "output_type": "stream",
          "name": "stdout",
          "text": [
            "And the next number is... 20!\n",
            "And the next number is... 4!\n",
            "And the next number is... 22!\n",
            "And the next number is... 21!\n",
            "And the next number is... 36!\n",
            "And the next number is... 28!\n",
            "And the next number is... 8!\n"
          ]
        }
      ]
    }
  ]
}