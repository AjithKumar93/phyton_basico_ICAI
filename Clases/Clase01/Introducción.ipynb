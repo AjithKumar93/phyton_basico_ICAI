{
 "cells": [
  {
   "cell_type": "markdown",
   "metadata": {},
   "source": [
    "# Sinstaxis y Comentarios\n",
    "\n",
    "- Comentarios de linea, multiple linea\n",
    "- Sintaxis identada\n",
    "- Salidas - > print()"
   ]
  },
  {
   "cell_type": "code",
   "execution_count": 2,
   "metadata": {},
   "outputs": [
    {
     "name": "stdout",
     "output_type": "stream",
     "text": [
      "Bienvenidos al curso de Python\n",
      "Programa Clase 1\n"
     ]
    }
   ],
   "source": [
    "\"\"\" DocStrings\n",
    "    Esto es un comentario de multiples lineas\n",
    "    Código: estos son los ejemplos vistos en la clase 1.\n",
    "    Autor: Andrés Mena A.\n",
    "\"\"\"\n",
    "\n",
    "linea2 = '\\nPrograma Clase 1' # \\n caracter especial que representa un salto de linea\n",
    "print('Bienvenidos al curso de Python' + linea2) # Esto es un mensaje de bienvenida\n",
    "\n",
    "print(\"Hola\",linea2)"
   ]
  }
 ],
 "metadata": {
  "kernelspec": {
   "display_name": "Python 3",
   "language": "python",
   "name": "python3"
  },
  "language_info": {
   "codemirror_mode": {
    "name": "ipython",
    "version": 3
   },
   "file_extension": ".py",
   "mimetype": "text/x-python",
   "name": "python",
   "nbconvert_exporter": "python",
   "pygments_lexer": "ipython3",
   "version": "3.12.2"
  }
 },
 "nbformat": 4,
 "nbformat_minor": 2
}
