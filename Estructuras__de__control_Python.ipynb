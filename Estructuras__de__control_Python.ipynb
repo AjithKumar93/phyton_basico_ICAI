{
  "cells": [
    {
      "cell_type": "markdown",
      "metadata": {
        "id": "view-in-github",
        "colab_type": "text"
      },
      "source": [
        "<a href=\"https://colab.research.google.com/github/ajmenaa/phyton_basico_ICAI/blob/main/Estructuras__de__control_Python.ipynb\" target=\"_parent\"><img src=\"https://colab.research.google.com/assets/colab-badge.svg\" alt=\"Open In Colab\"/></a>"
      ]
    },
    {
      "cell_type": "markdown",
      "metadata": {
        "id": "yob8kLEZeUzF"
      },
      "source": [
        "# Booleanos, Condiciones, Bucles, Operadores Lógicos y Relacionales\n",
        "\n",
        "## Introducción\n",
        "Este notebook presenta una introducción a los conceptos básicos de programación en Python, incluyendo:\n",
        "\n",
        "- **Valores Booleanos: True (1)** y False (0) representan valores lógicos.\n",
        "- **Operadores Lógicos:** Combinan expresiones booleanas (and, or, not).\n",
        "- **Condiciones:** Ejecutan bloques de código en base a condiciones booleanas (if, elif, else).\n",
        "- **Bucles while:** Repiten un bloque de código hasta que una condición sea False.\n",
        "- **Bucles for:** Recorren elementos de una colección (cadenas, listas, tuplas, diccionarios)."
      ]
    },
    {
      "cell_type": "markdown",
      "source": [
        "## Valores Booleanos"
      ],
      "metadata": {
        "id": "RAI_91MmQRmr"
      }
    },
    {
      "cell_type": "code",
      "source": [
        "activo = False\n",
        "print('Valor:',activo,'Tipo:', type(activo))"
      ],
      "metadata": {
        "id": "GuuJ9NWeOkUG"
      },
      "execution_count": null,
      "outputs": []
    },
    {
      "cell_type": "markdown",
      "source": [
        "> - La variable activo se declara como False, un valor booleano que representa \"falso\".\n",
        "- print muestra el valor y tipo de activo: False y bool, respectivamente.\n"
      ],
      "metadata": {
        "id": "R43mb8DtOo0A"
      }
    },
    {
      "cell_type": "markdown",
      "source": [
        "## Operadores Relacionales"
      ],
      "metadata": {
        "id": "fpNOPzW-QWxF"
      }
    },
    {
      "cell_type": "code",
      "source": [
        "numero_uno = 10\n",
        "numero_dos = 20\n",
        "\n",
        "resultado = numero_uno != numero_dos\n",
        "print(resultado)\n",
        "print(type(resultado))"
      ],
      "metadata": {
        "id": "Lgxq4Sq9QaWm"
      },
      "execution_count": null,
      "outputs": []
    },
    {
      "cell_type": "markdown",
      "source": [
        "* Se definen dos variables numero_uno y numero_dos.\n",
        "* Se utiliza el operador relacional != (diferente) para comparar los valores.\n",
        "resultado almacena el resultado de la comparación (True en este caso).\n",
        "* Se muestra el valor y tipo de resultado: True y bool, respectivamente.\n",
        "\n",
        "|Operador|Resultado Booleano|\n",
        "|:----|:----|\n",
        "|>|Mayor|\n",
        "|<|Menor|\n",
        "|>=|Mayor o igual|\n",
        "|<=|Menor o igual|\n",
        "|==|Igual|\n",
        "|!=|Diferente|\n"
      ],
      "metadata": {
        "id": "URl1u4IGQdS6"
      }
    },
    {
      "cell_type": "markdown",
      "source": [
        "## Operadores Lógicos"
      ],
      "metadata": {
        "id": "OkVK4dQEP65Z"
      }
    },
    {
      "cell_type": "code",
      "source": [
        "# AND\n",
        "numero_uno = 10\n",
        "numero_dos = 20\n",
        "resultado = numero_uno > numero_dos and False\n",
        "print(resultado)\n",
        "\n",
        "# OR\n",
        "resultado = False or False or True\n",
        "print(resultado)\n",
        "\n",
        "# NOT\n",
        "numero_dos = 20\n",
        "resultado = not True\n",
        "resultado = not (numero_dos > 50)\n",
        "print(resultado)"
      ],
      "metadata": {
        "id": "Ez0euKqWPF_p"
      },
      "execution_count": null,
      "outputs": []
    },
    {
      "cell_type": "markdown",
      "source": [
        "- **AND (y)**: Devuelve True solo si ambas expresiones son True.\n",
        "numero_uno > numero_dos es False, por lo que el resultado final es False.\n",
        "- **OR (o)**: Devuelve True si al menos una expresión es True.\n",
        "Todas las expresiones son False excepto la última, por lo que el resultado final es True.\n",
        "- **NOT (no)**: Invierte el valor de la expresión.\n",
        "not True es False.\n",
        "not (numero_dos > 50) es True porque la expresión original (numero_dos > 50) es False."
      ],
      "metadata": {
        "id": "6KHc2nZePb-d"
      }
    },
    {
      "cell_type": "markdown",
      "source": [
        "## Condiciones"
      ],
      "metadata": {
        "id": "RGZoeMuuPsX-"
      }
    },
    {
      "cell_type": "code",
      "source": [
        "# Condición simple\n",
        "if True: #Valor Booleano\n",
        "    print('Eres mayor edad')\n",
        "\n",
        "# Condición con variable\n",
        "edad = 15\n",
        "if edad >= 18:\n",
        "    print('Eres mayor edad')\n",
        "\n",
        "# Condición con input (entrada de usuario)\n",
        "edad = input(\"Ingresa tu edad: \") #Input retorna un String por defecto\n",
        "print(type(edad))\n",
        "edad = float(edad) #Conversión de String a Float\n",
        "print(type(edad))\n",
        "\n",
        "if edad >= 18:\n",
        "    print('Eres mayor edad')\n",
        "\n",
        "# Condición anidada (elif, else)\n",
        "edad = int(input('Ingresa tu edad: '))\n",
        "if edad >= 18 and edad <=59:\n",
        "    print('Eres mayor edad')\n",
        "elif edad >= 60:\n",
        "     print('Eres mayor edad y eres una persona adulta')\n",
        "else: #Bloque opcional\n",
        "    print('No eres mayor de edad')"
      ],
      "metadata": {
        "id": "dCvNAQMoPvYz"
      },
      "execution_count": null,
      "outputs": []
    },
    {
      "cell_type": "code",
      "source": [
        "- Las condiciones utilizan la palabra clave if seguida de una expresión booleana.\n",
        "- El bloque de código indentado con 4 espacios se ejecuta si la condición es True.\n",
        "- elif permite evaluar otras condiciones si la primera falla."
      ],
      "metadata": {
        "id": "l8DANYkoRbSn"
      },
      "execution_count": null,
      "outputs": []
    },
    {
      "cell_type": "markdown",
      "source": [
        "## Ciclos while"
      ],
      "metadata": {
        "id": "T7szeyXuRm_n"
      }
    },
    {
      "cell_type": "code",
      "source": [
        "contador = 0\n",
        "while contador <= 10:\n",
        "    print(contador)\n",
        "    contador +=1 #contador = contador + 1\n",
        "else: #Opcional\n",
        "    print ('Contador no menor o igual a 10')"
      ],
      "metadata": {
        "id": "_bISyi1WRtmB"
      },
      "execution_count": null,
      "outputs": []
    },
    {
      "cell_type": "markdown",
      "source": [
        "- El ciclo while repite un bloque de código hasta que la condición sea False.\n",
        "- Se inicializa un contador en 0.\n",
        "- El ciclo imprime el valor de contador y lo incrementa en 1.\n",
        "- La condición contador <= 10 se evalúa antes de cada iteración.\n",
        "- Cuando contador supera 10, el ciclo termina y se ejecuta el bloque else (opcional)."
      ],
      "metadata": {
        "id": "QrX-RKdERxlg"
      }
    },
    {
      "cell_type": "markdown",
      "source": [
        "Ciclos for"
      ],
      "metadata": {
        "id": "qQxc-CJAR6BG"
      }
    },
    {
      "cell_type": "markdown",
      "source": [],
      "metadata": {
        "id": "wBKa5IJ-SAlJ"
      }
    },
    {
      "cell_type": "code",
      "source": [
        "# Recorriendo una cadena\n",
        "mensaje = \"un string es un objeto inmutable\" # No cambia durante la ejecución\n",
        "\n",
        "for caracter in mensaje: #Interar sobre string\n",
        "    print(caracter)\n",
        "\n",
        "# Recorriendo una lista\n",
        "numeros = [1,'Andrés',3.10,False,5]\n",
        "\n",
        "for x in numeros:\n",
        "    print(x)\n",
        "\n",
        "# Recorriendo un diccionario (claves)\n",
        "usuario = {\n",
        "    'nombre':'Andrés',\n",
        "    'email':'ajmena92@gmail.com',\n",
        "    'pass':'password'\n",
        "    }\n",
        "\n",
        "for key in usuario:\n",
        "    print(key)\n",
        "\n",
        "# Recorriendo un diccionario (valores)\n",
        "usuario = {\n",
        "    'nombre':'Andrés',\n",
        "    'email':'ajmena92@gmail.com',\n",
        "    'pass':'password'\n",
        "    }\n",
        "for key in usuario: #Interar con cada elemento por medio de llave para obtener el valor\n",
        "    valor = usuario[key]\n",
        "    print(valor)\n",
        "\n",
        "# Desempaquetado de clave y valor\n",
        "nombre, email = ('Andrés','ajmena92@gmail.com')\n",
        "\n",
        "usuario = {\n",
        "    'nombre':'Andrés',\n",
        "    'email':'ajmena92@gmail.com',\n",
        "    'pass':'password'\n",
        "    }\n",
        "for llave,valor in usuario.items(): # Desempaquetado de la clave y el valor\n",
        "    print(llave,' - ',valor)"
      ],
      "metadata": {
        "id": "z_DTPszQR46Z"
      },
      "execution_count": null,
      "outputs": []
    },
    {
      "cell_type": "markdown",
      "source": [
        "- Los ciclos for recorren colecciones de elementos.\n",
        "- Cadenas: Se itera sobre cada carácter del string.\n",
        "- Listas: Se itera sobre cada elemento de la lista.\n",
        "- Diccionarios:\n",
        " - Se itera sobre las claves del diccionario.\n",
        " - Se puede usar el desempaquetado para obtener tanto la clave como el valor."
      ],
      "metadata": {
        "id": "hbfAQON0SDNC"
      }
    },
    {
      "cell_type": "markdown",
      "source": [
        "# Funciones en Python: Definición, Ejemplos y Documentación"
      ],
      "metadata": {
        "id": "VtNWFSbTSUZr"
      }
    },
    {
      "cell_type": "markdown",
      "source": [
        "## Introducción\n",
        "Las funciones en Python son bloques de código reutilizables que permiten modularizar el programa, mejorar la legibilidad y evitar la duplicación de código. Se definen utilizando la palabra clave **def** seguida del nombre de la función, paréntesis, parámetros opcionales y dos puntos. A continuación, se escribe el bloque de código indentado que representa el cuerpo de la función."
      ],
      "metadata": {
        "id": "rLYvd-iKU-mn"
      }
    },
    {
      "cell_type": "markdown",
      "source": [
        "## Estructura de una función"
      ],
      "metadata": {
        "id": "OBVAp-TnVU7B"
      }
    },
    {
      "cell_type": "code",
      "source": [
        "def nombre_funcion(parametro1, parametro2, ...):\n",
        "  \"\"\"\n",
        "  Documentación de la función\n",
        "\n",
        "  Esta función realiza ...\n",
        "\n",
        "  Parámetros:\n",
        "    parametro1: Descripción del primer parámetro.\n",
        "    parametro2: Descripción del segundo parámetro.\n",
        "    ...\n",
        "\n",
        "  Retorno:\n",
        "    Valor de retorno de la función (opcional).\n",
        "  \"\"\"\n",
        "  # Bloque de código de la función\n",
        "  ..."
      ],
      "metadata": {
        "id": "583UKkJwVeAt"
      },
      "execution_count": null,
      "outputs": []
    },
    {
      "cell_type": "markdown",
      "source": [
        "### Características\n",
        "- **Reutilizables:** Las funciones se pueden llamar desde cualquier parte del programa.\n",
        "- **Modulares:** Permiten dividir el programa en secciones más pequeñas y manejables.\n",
        "- **Legibles:** Mejoran la comprensión del código al agru\n",
        "par funcionalidades relacionadas.\n",
        "- **Evitar duplicación:** Eliminan la necesidad de escribir el mismo código varias veces."
      ],
      "metadata": {
        "id": "r05M0uCdVqaa"
      }
    },
    {
      "cell_type": "markdown",
      "source": [
        "## Ejemplos"
      ],
      "metadata": {
        "id": "vzO_vd_IZlZ7"
      }
    },
    {
      "cell_type": "markdown",
      "source": [
        "#### 1. Función para saludar:º"
      ],
      "metadata": {
        "id": "9ONVsiXsIr1b"
      }
    },
    {
      "cell_type": "code",
      "source": [
        "def saludar(nombre):\n",
        "  \"\"\"\n",
        "  Función que saluda a una persona por su nombre.\n",
        "\n",
        "  Parámetro:\n",
        "    nombre: El nombre de la persona a saludar.\n",
        "\n",
        "  Retorno:\n",
        "    Un mensaje de saludo personalizado.\n",
        "  \"\"\"\n",
        "  mensaje = \"Hola \" + nombre + \"! ¿Cómo estás?\"\n",
        "  return mensaje\n",
        "\n",
        "# Llamada a la función\n",
        "persona = \"Andrés\"\n",
        "saludo = saludar(persona)\n",
        "print(saludo)"
      ],
      "metadata": {
        "id": "vlNcCmM-G_vT",
        "outputId": "64aac918-947b-4a5d-fe25-278008b4b7bc",
        "colab": {
          "base_uri": "https://localhost:8080/"
        }
      },
      "execution_count": null,
      "outputs": [
        {
          "output_type": "stream",
          "name": "stdout",
          "text": [
            "Hola Andrés! ¿Cómo estás?\n"
          ]
        }
      ]
    },
    {
      "cell_type": "markdown",
      "source": [
        "#### 2. Función con parámetros por defecto y valores de retorno múltiples:"
      ],
      "metadata": {
        "id": "c7JoYIwyHGd6"
      }
    },
    {
      "cell_type": "code",
      "source": [
        "def calcular_area_y_perimetro_rectangulo(base, altura, unidad=\"cm\"):\n",
        "  \"\"\"\n",
        "  Función para calcular el área y perímetro de un rectángulo.\n",
        "\n",
        "  Parámetros:\n",
        "    base: La longitud de la base del rectángulo (obligatorio).\n",
        "    altura: La longitud de la altura del rectángulo (obligatorio).\n",
        "    unidad: La unidad de medida para el área y perímetro (opcional, por defecto \"cm\").\n",
        "\n",
        "  Retorno:\n",
        "    Una tupla con el área y perímetro del rectángulo, en la unidad especificada.\n",
        "  \"\"\"\n",
        "  area = base * altura\n",
        "  perimetro = 2 * (base + altura)\n",
        "  return area, perimetro, unidad\n",
        "\n",
        "# Llamada a la función con parámetros por defecto\n",
        "resultado = calcular_area_y_perimetro_rectangulo(5, 3)\n",
        "print(\"Área:\", resultado[0], resultado[2])  # Acceder al área y unidad\n",
        "print(\"Perímetro:\", resultado[1], resultado[2])  # Acceder al perímetro y unidad\n",
        "\n",
        "# Llamada a la función con todos los parámetros\n",
        "resultado = calcular_area_y_perimetro_rectangulo(10, 7, \"m\")\n",
        "print(\"Área (en metros):\", resultado[0], resultado[2])\n",
        "print(\"Perímetro (en metros):\", resultado[1], resultado[2])"
      ],
      "metadata": {
        "id": "J1YUFshjHJZm",
        "outputId": "1a1c0307-94aa-481c-ec76-4f9a411d360a",
        "colab": {
          "base_uri": "https://localhost:8080/"
        }
      },
      "execution_count": null,
      "outputs": [
        {
          "output_type": "stream",
          "name": "stdout",
          "text": [
            "Resultado: 100\n",
            "Suma: 10\n",
            "Resultado: 512\n",
            "Suma: 8\n"
          ]
        }
      ]
    },
    {
      "cell_type": "markdown",
      "source": [
        "**Explicación:**\n",
        "\n",
        "1. La función calcular_area_y_perimetro_rectangulo toma dos parámetros obligatorios, base y altura, y un parámetro opcional unidad con valor por defecto \"cm\".\n",
        "2. La función calcula el área y perímetro del rectángulo utilizando las fórmulas:\n",
        "*área = base * altura y perímetro = 2 * (base + altura)*.\n",
        "3. La función retorna una tupla que contiene tres elementos: el área, el perímetro y la unidad de medida.\n",
        "4. Al llamar a la función, se pueden especificar los valores para todos los parámetros o solo para algunos. Si no se especifica un valor para un parámetro opcional, se utiliza el valor por defecto.\n",
        "5. En la tupla de retorno, cada elemento se puede acceder por su índice: resultado[0] para el área, resultado[1] para el perímetro y resultado[2] para la unidad."
      ],
      "metadata": {
        "id": "xSTEpJftH4QB"
      }
    },
    {
      "cell_type": "markdown",
      "source": [
        "#### 3. Función para contar la cantidad de vocales en una cadena:"
      ],
      "metadata": {
        "id": "dKRP1BOlHQAj"
      }
    },
    {
      "cell_type": "code",
      "source": [
        "#Programa contar vocales en 5 frases\n",
        "def contar_vocales(cadena,activa_mayus=False):\n",
        "  if activa_mayus:\n",
        "    vocales = 'aeiouAEIOU'\n",
        "  else:\n",
        "    vocales = 'aeiou'\n",
        "\n",
        "  contador_vocales = 0\n",
        "\n",
        "  for letra in cadena:\n",
        "    if letra in vocales:\n",
        "      contador_vocales += 1 # contador_vocales = contador_vocals + 1\n",
        "  return contador_vocales\n",
        "\n",
        "contador = 0\n",
        "while contador <=5:\n",
        "  frase = input('Ingrese la frase: ')\n",
        "  #contar_vocales\n",
        "  cantidad_vocales = contar_vocales(frase,True)\n",
        "  print(f'La frase {frase} contiene {cantidad_vocales} vocales')\n",
        "  contador += 1"
      ],
      "metadata": {
        "id": "CgPG4RzgHXl3"
      },
      "execution_count": null,
      "outputs": []
    },
    {
      "cell_type": "markdown",
      "source": [
        "### Calcular promedios de estudiantes\n",
        "**Descripción del problema:**\n",
        "\n",
        "Un profesor necesita calcular el promedio de calificaciones de sus estudiantes en un curso. Cada estudiante tiene una sola calificación. El profesor desea crear un programa que le permita:\n",
        "\n",
        "1. Ingresar las calificaciones de cada estudiante.\n",
        "2. Calcular el promedio general de la clase.\n",
        "3. Mostrar una tabla con los nombres de los estudiantes y sus calificaciones.\n",
        "\n",
        "\n",
        "**Solución utilizando ciclos y funciones:**"
      ],
      "metadata": {
        "id": "_X0WeRC3JEhG"
      }
    },
    {
      "cell_type": "code",
      "source": [
        "def calcular_promedio(calificaciones):\n",
        "  \"\"\"\n",
        "  Función para calcular el promedio de una lista de calificaciones.\n",
        "\n",
        "  Parámetro:\n",
        "    calificaciones: Una lista de calificaciones numéricas.\n",
        "\n",
        "  Retorno:\n",
        "    El promedio de las calificaciones.\n",
        "  \"\"\"\n",
        "  suma_calificaciones = 0\n",
        "  for calificacion in calificaciones:\n",
        "    suma_calificaciones += calificacion\n",
        "  promedio = suma_calificaciones / len(calificaciones)\n",
        "  return promedio\n",
        "\n",
        "def mostrar_tabla_resultados(estudiantes, calificaciones):\n",
        "  \"\"\"\n",
        "  Función para mostrar una tabla con los nombres y calificaciones de los estudiantes.\n",
        "\n",
        "  Parámetros:\n",
        "    estudiantes: Una lista con los nombres de los estudiantes.\n",
        "    calificaciones: Una lista con las calificaciones de los estudiantes.\n",
        "  \"\"\"\n",
        "  print(\"-\" * 30)\n",
        "  print(\"| Nombre          | Calificación |\")\n",
        "  print(\"-\" * 30)\n",
        "  for i in range(len(estudiantes)):\n",
        "    nombre = estudiantes[i]\n",
        "    calificacion = calificaciones[i]\n",
        "    print(f\"| {nombre:<15} | {calificacion:>10} |\")\n",
        "  print(\"-\" * 30)\n",
        "\n",
        "# Programa principal\n",
        "estudiantes = []  # Lista para almacenar nombres de estudiantes\n",
        "calificaciones = []  # Lista para almacenar calificaciones\n",
        "\n",
        "cantidad_estudiantes = int(input(\"¿Cuántos estudiantes hay en la clase? \"))\n",
        "\n",
        "# Ingresar datos de los estudiantes\n",
        "for i in range(cantidad_estudiantes):\n",
        "  nombre = input(f\"Ingrese el nombre del estudiante {i + 1}: \")\n",
        "  calificacion = float(input(f\"Ingrese la calificación de {nombre}: \"))\n",
        "\n",
        "  # Almacenar datos en las listas\n",
        "  estudiantes.append(nombre)\n",
        "  calificaciones.append(calificacion)\n",
        "\n",
        "# Calcular promedio general\n",
        "promedio_general = calcular_promedio(calificaciones)\n",
        "\n",
        "# Mostrar tabla de resultados\n",
        "mostrar_tabla_resultados(estudiantes, calificaciones)\n",
        "\n",
        "# Mostrar promedio general\n",
        "print(f\"Promedio general de la clase: {promedio_general:.2f}\")"
      ],
      "metadata": {
        "id": "ur1gxH-QJQ_1"
      },
      "execution_count": null,
      "outputs": []
    }
  ],
  "metadata": {
    "colab": {
      "provenance": [],
      "include_colab_link": true
    },
    "kernelspec": {
      "display_name": "Python 3",
      "name": "python3"
    },
    "language_info": {
      "name": "python"
    }
  },
  "nbformat": 4,
  "nbformat_minor": 0
}